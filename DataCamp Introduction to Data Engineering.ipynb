{
 "cells": [
  {
   "cell_type": "markdown",
   "id": "290e2712-ad7c-4612-afa2-47fa5bd785f6",
   "metadata": {},
   "source": [
    "## Introduction to Data Engineering\n"
   ]
  },
  {
   "cell_type": "markdown",
   "id": "13f0ceac-5b81-462b-ad8c-65f5b53f94b3",
   "metadata": {},
   "source": [
    "## Course Description\n",
    "\n",
    "Have you heard people talk about data engineers and wonder what it is they do? Do you know what data engineers do but you're not sure how to become one yourself? This course is the perfect introduction. It touches upon all things you need to know to streamline your data processing. This introductory course will give you enough context to start exploring the world of data engineering. It's perfect for people who work at a company with several data sources and don't have a clear idea of how to use all those data sources in a scalable way. Be the first one to introduce these techniques to your company and become the company star employee."
   ]
  },
  {
   "cell_type": "markdown",
   "id": "ebeffab9-d4e6-49e8-a6c7-09311aa3c141",
   "metadata": {},
   "source": [
    "##  Introduction to Data Engineering\n",
    "Free\n",
    "0%\n",
    "\n",
    "In this first chapter, you will be exposed to the world of data engineering! Explore the differences between a data engineer and a data scientist, get an overview of the various tools data engineers use and expand your understanding of how cloud technology plays a role in data engineering.\n",
    "\n",
    "    What is data engineering?    50 xp\n",
    "    Tasks of the data engineer    50 xp\n",
    "    Data engineer or data scientist?    100 xp\n",
    "    Data engineering problems    50 xp\n",
    "    Tools of the data engineer    50 xp\n",
    "    Kinds of databases    50 xp\n",
    "    Processing tasks    50 xp\n",
    "    Scheduling tools    50 xp\n",
    "    Cloud providers    50 xp\n",
    "    Why cloud computing?    50 xp\n",
    "    Big players in cloud computing    100 xp\n",
    "    Cloud services    100 xp\n"
   ]
  },
  {
   "cell_type": "markdown",
   "id": "b17b9ba9-35a7-4e68-bcb5-93adcc920822",
   "metadata": {},
   "source": [
    "##  Data engineering toolbox\n",
    "0%\n",
    "\n",
    "Now that you know the primary differences between a data engineer and a data scientist, get ready to explore the data engineer's toolbox! Learn in detail about different types of databases data engineers use, how parallel computing is a cornerstone of the data engineer's toolkit, and how to schedule data processing jobs using scheduling frameworks.\n",
    "\n",
    "    Databases    50 xp\n",
    "    SQL vs NoSQL    100 xp\n",
    "    The database schema    100 xp\n",
    "    Joining on relations    100 xp\n",
    "    Star schema diagram    50 xp\n",
    "    What is parallel computing    50 xp\n",
    "    Why parallel computing?    50 xp\n",
    "    From task to subtasks    100 xp\n",
    "    Using a DataFrame    100 xp\n",
    "    Parallel computation frameworks    50 xp\n",
    "    Spark, Hadoop and Hive    100 xp\n",
    "    A PySpark groupby    100 xp\n",
    "    Running PySpark files    50 xp\n",
    "    Workflow scheduling frameworks    50 xp\n",
    "    Airflow, Luigi and cron    50 xp\n",
    "    Airflow DAGs    100 xp \n",
    "    "
   ]
  },
  {
   "cell_type": "markdown",
   "id": "4901c37c-db83-41fc-bee9-f0730e194926",
   "metadata": {},
   "source": [
    "##  Extract, Transform and Load (ETL)\n",
    "0%\n",
    "\n",
    "Having been exposed to the toolbox of data engineers, it's now time to jump into the bread and butter of a data engineer's workflow! With ETL, you will learn how to extract raw data from various sources, transform this raw data into actionable insights, and load it into relevant databases ready for consumption!\n",
    "\n",
    "    Extract    50 xp\n",
    "    Data sources    50 xp\n",
    "    Fetch from an API    100 xp\n",
    "    Read from a database    100 xp\n",
    "    Transform    50 xp\n",
    "    Splitting the rental rate    100 xp\n",
    "    Prepare for transformations    50 xp\n",
    "    Joining with ratings    100 xp\n",
    "    Loading    50 xp\n",
    "    OLAP or OLTP    50 xp\n",
    "    Writing to a file    100 xp\n",
    "    Load into Postgres    100 xp\n",
    "    Putting it all together    50 xp\n",
    "    Defining a DAG    100 xp\n",
    "    Setting up Airflow    50 xp\n",
    "    Interpreting the DAG    50 xp\n"
   ]
  },
  {
   "cell_type": "markdown",
   "id": "d23398ca-14ae-4d69-a77a-65ec971313f4",
   "metadata": {},
   "source": [
    "##  Case Study: DataCamp\n",
    "0%\n",
    "\n",
    "Cap off all that you've learned in the previous three chapters by completing a real-world data engineering use case from DataCamp! You will perform and schedule an ETL process that transforms raw course rating data, into actionable course recommendations for DataCamp students!\n",
    "\n",
    "    Course ratings    50 xp\n",
    "    Exploring the schema    50 xp\n",
    "    Querying the table    100 xp\n",
    "    Average rating per course    100 xp\n",
    "    From ratings to recommendations    50 xp\n",
    "    Filter out corrupt data    100 xp\n",
    "    Using the recommender transformation    100 xp\n",
    "    Scheduling daily jobs    50 xp\n",
    "    The target table    100 xp\n",
    "    Defining the DAG    100 xp\n",
    "    Enable the DAG    50 xp\n",
    "    Querying the recommendations    100 xp\n",
    "    Congratulations    50 xp\n"
   ]
  },
  {
   "cell_type": "code",
   "execution_count": null,
   "id": "4562061c-3153-4d69-8054-50021cfa1240",
   "metadata": {},
   "outputs": [],
   "source": []
  },
  {
   "cell_type": "markdown",
   "id": "e26d074f-1402-4d7c-ab98-f0c0de747ccb",
   "metadata": {},
   "source": [
    "## What is data engineering?\n",
    "\n",
    "\n",
    "\n",
    "\n",
    "\n",
    "**Hi, my name is Vincent.  I'm a Data and Software Engineer at DataCamp.  If you ever heard of data science, there is a good chance you've heard of the data engineering as well.  this course will help you take your first steps in the world of data engineering.  All very exciting, so lets get started.  \n",
    "\n",
    "\n",
    "In the first chapter, we'll start off by introducing the [concept of data engineering].  In the second chapter, you'll learn more about the [tools data engineers use].  In third chapteris all about [Extracting, Transforming and Loading data, or ETL].  Finally, you'll get to have a peek behind the curtain in the [case study] on data engineering at DataCamp.  But first, lets understand what data engineers do.  \n",
    "\n",
    "# *******************************************************************************************************************\n",
    "Imagine this: you've hired as a data scientist at a yound startup.  Task with predicting customer churn, you want to use a fancy machine learning technique that you have been honing for years.  However, after a bit of digging around, you realize all of your data is scattered around many databases.  Additionally the data resides in tables that are optimized for applications to run, not for analyses.  To make matters worse, some legacy code has caused a lot of the data to be currupt.  In your previous company, you never really had this problem, because all the data was available to you in an orderly fashion.  You're getting desperated.  In comes the data engineer to the rescure.  \n",
    "\n",
    "It is the data engineer's task to make your life as data scientist easier.  Do you need data that currently comes from several different sources?  No problem, the data engineer extract data from these sources and loads it into one single database ready to use.  At the same time, they've optimized the database schema so it becomes faster to query.  They also removed corrupt data.  In this sense, [the data engineer is one of the most valuable people in a data-driven company that wants to scale up].  \n",
    "\n",
    "\n",
    "Back to 2015, DataCamp published an infographic on precisely this: who does what in the data science industry.  In this infographic, we describe a data engineer as [\"an engineer that develops, constructs, tests, and maintains architecures such as databases and large-scaleprocessing systems.\"]  A lot of things has changed since that, but the definition still holds up.  The data engineer is focused on processing and handling massive amount of data, and setting up clusters of machines to do the computing.  Typically, the tasks of data engineers consist of developing a scalable data architecture, streamlining data qcquisition, setting up processes that bring data together from several sources and safeguarding data quality by cleaning up corrupt data.  Typically, the data engineer also has a deep understanding of cloud technology.  They generally are experienced using cloud service provides like AWS, Azure, or Google Cloud.  Compare this with the tasks of a data scientist, who spend their time mining for pattern in data, applying statistical models on large datasets, building predictive models using machine learning, developing tools to monitor essential business processes, or cleaning data by removing statistical outliers.  Data scientist typically have a deep understanding of the business itself.  \n",
    "\n",
    "\n",
    "\n",
    "Lets see if you can recognize the qualities of a data engineer in the exercises.  \n",
    "\n"
   ]
  },
  {
   "cell_type": "markdown",
   "id": "1978521c-8c00-468e-a323-27f6d2cc8da9",
   "metadata": {},
   "source": [
    "## Tasks of the data engineer\n",
    "\n",
    "The video presented several tasks of the data engineer. You saw that there are some differences between the tasks of data scientists and the tasks of data engineers.\n",
    "\n",
    "Below are three essential tasks that need to happen in a data-driven company. Can you find the one that best fits the job of a data engineer?\n",
    "Answer the question\n",
    "50XP\n",
    "Possible Answers\n",
    "\n",
    "    Apply a statistical model to a large dataset to find outliers.\n",
    "    1\n",
    "#    Set up scheduled ingestion of data from the application databases to an analytical database.\n",
    "    2\n",
    "    Come up with a database schema for an application.\n",
    "    3\n",
    "    \n",
    "Hint\n",
    "\n",
    "    The data engineer moves data from one place to the other to make life easier for the data scientist.\n"
   ]
  },
  {
   "cell_type": "markdown",
   "id": "003fb0da-e411-4d4d-bfc4-28bb10fc5198",
   "metadata": {},
   "source": [
    "## Data engineer or data scientist?\n",
    "\n",
    "You now know that there's a difference between the job of the data engineer and the data scientist. Remember the definition of a data engineer:\n",
    "\n",
    "    An engineer that develops, constructs, tests, and maintains architectures such as databases and large-scale processing systems.\n",
    "\n",
    "Now let's see if you can separate tasks for the data engineer from the data scientist's tasks.\n",
    "Instructions\n",
    "100XP\n",
    "\n",
    "    Classify the tasks in the correct bucket. Is it for the data engineer or the data scientist?\n"
   ]
  },
  {
   "cell_type": "markdown",
   "id": "66297a04-494d-4944-ad48-39fbefe804b5",
   "metadata": {},
   "source": [
    "Data Engineer:\n",
    "    Clean corrupt data\n",
    "    Set up processes to bring together data\n",
    "    Streamline data acquisition\n",
    "    Develop scalable data architecture\n",
    "    Cloud technology\n",
    "    \n",
    "    \n",
    "Data Scientist:\n",
    "    Clean statistical outliers in data\n",
    "    Monitor business process\n",
    "    Mining data for patterns\n",
    "    Statistical modeling\n",
    "    Predictive models using machine learning\n",
    "    "
   ]
  },
  {
   "cell_type": "markdown",
   "id": "bfc731f9-31aa-4885-b298-8551f737fc0f",
   "metadata": {},
   "source": [
    "## Data engineering problems\n",
    "\n",
    "For this exercise, imagine you work in a medium-scale company that hosts an online market for pet toys. As the company is growing, there are unmistakably some technical growing pains.\n",
    "\n",
    "As the first data engineer, you observe some problems and have to decide where you're best suited to be of help.\n",
    "Answer the question\n",
    "50XP\n",
    "Possible Answers\n",
    "\n",
    "#    Data scientists are querying the online store databases directly and slowing down the functioning of the application since it's using the same database.\n",
    "    1\n",
    "    Harmful product recommendations are affecting the sales numbers of the online store.\n",
    "    2\n",
    "    The online store is slow because the application's database server doesn't have enough memory.\n",
    "    3\n",
    "    \n",
    "Hint\n",
    "\n",
    "    Remember, as a data engineer, you are responsible for making sure all data is gathered and ready for analyses.\n"
   ]
  },
  {
   "cell_type": "markdown",
   "id": "d604cf18-49d4-47a9-ad47-d6635cb7222a",
   "metadata": {},
   "source": [
    "## Tools of the data engineer\n",
    "\n",
    "\n",
    "\n",
    "\n",
    "\n",
    "**\n",
    "\n"
   ]
  },
  {
   "cell_type": "code",
   "execution_count": null,
   "id": "fb0adc98-e844-47cb-a892-3ad45aa27db4",
   "metadata": {},
   "outputs": [],
   "source": []
  },
  {
   "cell_type": "code",
   "execution_count": null,
   "id": "75c4354e-4486-4151-85be-4ae1b7402576",
   "metadata": {},
   "outputs": [],
   "source": []
  },
  {
   "cell_type": "code",
   "execution_count": null,
   "id": "1ccad2a6-dc0c-4a32-8cae-bff57909d70e",
   "metadata": {},
   "outputs": [],
   "source": []
  },
  {
   "cell_type": "code",
   "execution_count": null,
   "id": "51254585-2206-43c9-b4e8-35f68e2e8797",
   "metadata": {},
   "outputs": [],
   "source": []
  },
  {
   "cell_type": "code",
   "execution_count": null,
   "id": "5049d72b-e036-4fbe-9c22-fd93dff3baef",
   "metadata": {},
   "outputs": [],
   "source": []
  },
  {
   "cell_type": "code",
   "execution_count": null,
   "id": "45cce333-922f-458b-8c93-36df86a0f6cf",
   "metadata": {},
   "outputs": [],
   "source": []
  },
  {
   "cell_type": "code",
   "execution_count": null,
   "id": "b759a7a9-8464-47a7-83c1-2cbb86360d0d",
   "metadata": {},
   "outputs": [],
   "source": []
  },
  {
   "cell_type": "code",
   "execution_count": null,
   "id": "5267684e-1ba7-483b-8760-ed8750313378",
   "metadata": {},
   "outputs": [],
   "source": []
  },
  {
   "cell_type": "code",
   "execution_count": null,
   "id": "bbc82570-ca6f-4404-9a90-d10aeea2bc5b",
   "metadata": {},
   "outputs": [],
   "source": []
  },
  {
   "cell_type": "code",
   "execution_count": null,
   "id": "b6781cd9-e4b4-4053-9847-49e20627b20e",
   "metadata": {},
   "outputs": [],
   "source": []
  },
  {
   "cell_type": "code",
   "execution_count": null,
   "id": "d0800257-0477-4798-a134-77eb8ad7bebd",
   "metadata": {},
   "outputs": [],
   "source": []
  },
  {
   "cell_type": "code",
   "execution_count": null,
   "id": "1b03c2fb-d68b-4c05-887f-7918d37e3848",
   "metadata": {},
   "outputs": [],
   "source": []
  },
  {
   "cell_type": "code",
   "execution_count": null,
   "id": "1afce1d7-d233-4737-ac62-594251c64e86",
   "metadata": {},
   "outputs": [],
   "source": []
  },
  {
   "cell_type": "code",
   "execution_count": null,
   "id": "93ddefdf-bcb3-4ae0-bb94-17456b43509e",
   "metadata": {},
   "outputs": [],
   "source": []
  },
  {
   "cell_type": "code",
   "execution_count": null,
   "id": "1cbb9636-e165-4d3c-901b-007185c9750d",
   "metadata": {},
   "outputs": [],
   "source": []
  },
  {
   "cell_type": "code",
   "execution_count": null,
   "id": "ec604e56-757a-4a7b-956f-4e4023163201",
   "metadata": {},
   "outputs": [],
   "source": []
  },
  {
   "cell_type": "code",
   "execution_count": null,
   "id": "d2913724-eabc-4851-ab23-c7dda05af8ca",
   "metadata": {},
   "outputs": [],
   "source": []
  },
  {
   "cell_type": "code",
   "execution_count": null,
   "id": "7e89fd83-6ef2-4b87-8be4-e925ead598ef",
   "metadata": {},
   "outputs": [],
   "source": []
  },
  {
   "cell_type": "code",
   "execution_count": null,
   "id": "6d00909f-8b58-4520-893b-ac448d5d2323",
   "metadata": {},
   "outputs": [],
   "source": []
  },
  {
   "cell_type": "code",
   "execution_count": null,
   "id": "83c88cfb-070f-4492-9294-3faba2665cc4",
   "metadata": {},
   "outputs": [],
   "source": []
  },
  {
   "cell_type": "code",
   "execution_count": null,
   "id": "7b07e8d3-4b29-499f-a332-5c4e04e0fe62",
   "metadata": {},
   "outputs": [],
   "source": []
  },
  {
   "cell_type": "code",
   "execution_count": null,
   "id": "7f9e1d81-1cd4-46c4-a4a5-19c17f3a669c",
   "metadata": {},
   "outputs": [],
   "source": []
  },
  {
   "cell_type": "code",
   "execution_count": null,
   "id": "ca30ab96-80fd-4777-b627-22e7fd976431",
   "metadata": {},
   "outputs": [],
   "source": []
  },
  {
   "cell_type": "code",
   "execution_count": null,
   "id": "6b467a89-20d4-4e20-8341-bbc70b84528a",
   "metadata": {},
   "outputs": [],
   "source": []
  },
  {
   "cell_type": "code",
   "execution_count": null,
   "id": "8c4566bb-fd0f-4f59-b967-989da27bb4ff",
   "metadata": {},
   "outputs": [],
   "source": []
  },
  {
   "cell_type": "code",
   "execution_count": null,
   "id": "2c48c4b2-15a8-404c-b674-38e46a8cb836",
   "metadata": {},
   "outputs": [],
   "source": []
  },
  {
   "cell_type": "code",
   "execution_count": null,
   "id": "da8b5b44-3261-4cec-b659-bad648977e66",
   "metadata": {},
   "outputs": [],
   "source": []
  },
  {
   "cell_type": "code",
   "execution_count": null,
   "id": "fc349f17-917e-4434-a29a-3df1c9c52479",
   "metadata": {},
   "outputs": [],
   "source": []
  },
  {
   "cell_type": "code",
   "execution_count": null,
   "id": "fc56fc07-da42-4013-9697-77ebef2925c4",
   "metadata": {},
   "outputs": [],
   "source": []
  },
  {
   "cell_type": "code",
   "execution_count": null,
   "id": "9d2dba10-6903-4ebe-a5d3-96214a8ad365",
   "metadata": {},
   "outputs": [],
   "source": []
  },
  {
   "cell_type": "code",
   "execution_count": null,
   "id": "adf9910a-bd5a-4e76-ad96-c85aed09b62b",
   "metadata": {},
   "outputs": [],
   "source": []
  },
  {
   "cell_type": "code",
   "execution_count": null,
   "id": "a3ed8b83-2890-4813-afc3-370b1b8cdecc",
   "metadata": {},
   "outputs": [],
   "source": []
  },
  {
   "cell_type": "code",
   "execution_count": null,
   "id": "e6083004-6561-4944-8604-08ccc15522c1",
   "metadata": {},
   "outputs": [],
   "source": []
  },
  {
   "cell_type": "code",
   "execution_count": null,
   "id": "c4feb540-74e2-415b-b2ce-9e767f2708e7",
   "metadata": {},
   "outputs": [],
   "source": []
  },
  {
   "cell_type": "code",
   "execution_count": null,
   "id": "1c11fba4-b72c-4232-92b7-26f34783e087",
   "metadata": {},
   "outputs": [],
   "source": []
  },
  {
   "cell_type": "code",
   "execution_count": null,
   "id": "3c4ad133-0e6e-4cd4-853f-63fb97182e18",
   "metadata": {},
   "outputs": [],
   "source": []
  },
  {
   "cell_type": "code",
   "execution_count": null,
   "id": "3b0c787f-f3d8-4e89-88df-3434946b57a2",
   "metadata": {},
   "outputs": [],
   "source": []
  },
  {
   "cell_type": "code",
   "execution_count": null,
   "id": "5dfe9593-1f02-4aea-91e3-06686fa7accc",
   "metadata": {},
   "outputs": [],
   "source": []
  },
  {
   "cell_type": "code",
   "execution_count": null,
   "id": "1db3dfa1-d675-436a-a860-c2f2e16295bb",
   "metadata": {},
   "outputs": [],
   "source": []
  },
  {
   "cell_type": "code",
   "execution_count": null,
   "id": "478b7004-7189-44fb-9b77-524c158133c5",
   "metadata": {},
   "outputs": [],
   "source": []
  },
  {
   "cell_type": "code",
   "execution_count": null,
   "id": "bf9eea23-caa3-41a5-b07d-d76fe80502a1",
   "metadata": {},
   "outputs": [],
   "source": []
  },
  {
   "cell_type": "code",
   "execution_count": null,
   "id": "668f17a0-4f0b-4566-9dad-22ca4d6c846f",
   "metadata": {},
   "outputs": [],
   "source": []
  },
  {
   "cell_type": "code",
   "execution_count": null,
   "id": "54b4ce63-c9a3-4dd9-9c94-eb43185a46c3",
   "metadata": {},
   "outputs": [],
   "source": []
  },
  {
   "cell_type": "code",
   "execution_count": null,
   "id": "ec2f5fcb-008c-4aef-954b-20bdd0736ab5",
   "metadata": {},
   "outputs": [],
   "source": []
  },
  {
   "cell_type": "code",
   "execution_count": null,
   "id": "4a5fcc00-1a06-482e-8df5-e11de95965b8",
   "metadata": {},
   "outputs": [],
   "source": []
  },
  {
   "cell_type": "code",
   "execution_count": null,
   "id": "08db32d5-3e48-4fe2-ba78-751137b05765",
   "metadata": {},
   "outputs": [],
   "source": []
  },
  {
   "cell_type": "code",
   "execution_count": null,
   "id": "94a6ecf3-0ec4-425c-b895-af9066e4861d",
   "metadata": {},
   "outputs": [],
   "source": []
  },
  {
   "cell_type": "code",
   "execution_count": null,
   "id": "d2aa1221-c6b4-4340-9e0a-19b0b0291b6c",
   "metadata": {},
   "outputs": [],
   "source": []
  },
  {
   "cell_type": "code",
   "execution_count": null,
   "id": "4cad680e-a65a-4e27-8d74-d9e7d7767d00",
   "metadata": {},
   "outputs": [],
   "source": []
  },
  {
   "cell_type": "code",
   "execution_count": null,
   "id": "a2b1df8e-5316-4138-9feb-51c0ceecef97",
   "metadata": {},
   "outputs": [],
   "source": []
  },
  {
   "cell_type": "code",
   "execution_count": null,
   "id": "e4bb5a6c-f30f-4433-958b-e8df8d94dfd5",
   "metadata": {},
   "outputs": [],
   "source": []
  },
  {
   "cell_type": "code",
   "execution_count": null,
   "id": "0bb5cb12-804a-4d43-aafe-915e478a61ce",
   "metadata": {},
   "outputs": [],
   "source": []
  }
 ],
 "metadata": {
  "kernelspec": {
   "display_name": "Python 3 (ipykernel)",
   "language": "python",
   "name": "python3"
  },
  "language_info": {
   "codemirror_mode": {
    "name": "ipython",
    "version": 3
   },
   "file_extension": ".py",
   "mimetype": "text/x-python",
   "name": "python",
   "nbconvert_exporter": "python",
   "pygments_lexer": "ipython3",
   "version": "3.9.2"
  }
 },
 "nbformat": 4,
 "nbformat_minor": 5
}
