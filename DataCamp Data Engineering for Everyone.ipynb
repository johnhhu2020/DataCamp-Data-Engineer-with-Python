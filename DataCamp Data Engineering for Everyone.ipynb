{
 "cells": [
  {
   "cell_type": "markdown",
   "id": "0b0bdcd3-e35f-4843-8c1c-499039528d48",
   "metadata": {},
   "source": [
    "## Data Engineering for Everyone\n",
    "\n"
   ]
  },
  {
   "cell_type": "markdown",
   "id": "03c32f9e-0048-4ae8-9f75-819068a7e83a",
   "metadata": {},
   "source": [
    "## Course Description\n",
    "\n",
    "In 2019, the average salary for data engineers overtook data scientists. How did this happen? Companies wanting to find the gold within their data realized it wasn’t possible if they hadn’t yet built the mine. Data engineers lay the foundations that make data science possible.\n",
    "\n",
    "In this course, you’ll learn about a data engineer’s core responsibilities, how they differ from data scientists, and facilitate the flow of data through an organization. Through hands-on exercises you’ll follow Spotflix, a fictional music streaming company, to understand how their data engineers collect, clean, and catalog their data. By the end of the course, you’ll understand what your company's data engineers do, be ready to have a conversation with a data engineer, and have a solid foundation to start your own data engineer journey. "
   ]
  },
  {
   "cell_type": "markdown",
   "id": "301ea6e9-9934-497c-8302-ca87e95f88e3",
   "metadata": {},
   "source": [
    "##  What is data engineering?\n",
    "Free\n",
    "0%\n",
    "\n",
    "In this chapter, you’ll learn what data engineering is and why demand for them is increasing. You’ll then discover where data engineering sits in relation to the data science lifecycle, how data engineers differ from data scientists, and have an introduction to your first complete data pipeline.\n",
    "\n",
    "    Data engineering and big data    50 xp\n",
    "    Go with the flow    100 xp\n",
    "    Not responsible    100 xp\n",
    "    Big time    100 xp\n",
    "    Data engineers vs. data scientists    50 xp\n",
    "    Tell me the truth    50 xp\n",
    "    Who is it    100 xp\n",
    "    The data pipeline    50 xp\n",
    "    It's not true    50 xp\n",
    "    Pipeline    100 xp\n"
   ]
  },
  {
   "cell_type": "markdown",
   "id": "6effdcb5-ffe1-4a5e-9ba3-c36564b7ba57",
   "metadata": {},
   "source": [
    "##  Storing data\n",
    "Free\n",
    "0%\n",
    "\n",
    "It’s time to talk about data storage—one of the main responsibilities for a data engineer. In this chapter, you’ll learn how data engineers manage different data structures, work in SQL—the programming language of choice for querying and storing data, and implement appropriate data storage solutions with data lakes and data warehouses.\n",
    "\n",
    "    Data structures    50 xp\n",
    "    Structures    50 xp\n",
    "    What's the difference    100 xp\n",
    "    SQL databases    50 xp\n",
    "    We can work it out    50 xp\n",
    "    Columns    50 xp\n",
    "    Different breeds    100 xp\n",
    "    Data warehouses and data lakes    50 xp\n",
    "    Tell the truth    50 xp\n",
    "    Our warehouse (in the middle of our street)    100 xp\n"
   ]
  },
  {
   "cell_type": "markdown",
   "id": "6a1fd570-3fc5-4ae0-86fc-caa6b0dfa5e5",
   "metadata": {},
   "source": [
    "##  Moving and processing data\n",
    "Free\n",
    "0%\n",
    "\n",
    "Data engineers make life easy for data scientists by preparing raw data for analysis using different processing techniques at different steps. These steps need to be combined to create pipelines, which is when automation comes into play. Finally, data engineers use parallel and cloud computing to keep pipelines flowing smoothly.\n",
    "\n",
    "    Processing data    50 xp\n",
    "    Connect the dots    100 xp\n",
    "    Scheduling data    50 xp\n",
    "    Schedules    100 xp\n",
    "    One or the other    100 xp\n",
    "    Parallel computing    50 xp\n",
    "    Whenever, whenever    50 xp\n",
    "    Parallel universe    100 xp\n",
    "    Cloud computing    50 xp\n",
    "    Obscured by clouds    100 xp\n",
    "    Somewhere I belong    100 xp\n",
    "    We are the champions    50 xp \n",
    "    "
   ]
  },
  {
   "cell_type": "code",
   "execution_count": null,
   "id": "f4d10a95-a89a-4124-a4a3-af3d10575bd4",
   "metadata": {},
   "outputs": [],
   "source": []
  },
  {
   "cell_type": "markdown",
   "id": "c890bd7d-d81c-40d9-9ad3-4238b88aea62",
   "metadata": {},
   "source": [
    "## Data engineering and big data\n",
    "\n",
    "\n",
    "\n",
    "\n",
    "**Welcome to Data Engineering for everyone.  My name is Hadrien, and I will be your instructor for this course.  This is a conceptual course; there is no code involved.  \n",
    "\n",
    "If you are not a developer, the objective is to provide you with a solid enough understanding of the topic so that you can exchange with and understand data engineering team.  If you are interested in actually developing data engineering projects, the objective is to equip you with conceptual knowledge allowing you to get the most out of our data engineering curriculum.  \n",
    "\n",
    "This first chapter will clarify what Data Engineering is; specifically, how it relates to big data and how a data engineer differ from a data scientist.  Data Engineers build data pipelines, so we will end this chapter by looking into these as well.  \n",
    "\n",
    "Building on these foundations, in the second chapter, we will then take things in order.  We will study data storage: the different types of data structures, the central role that the SQL langurage plays in data engineering, and some storage solutions.  \n",
    "\n",
    "Once data is stored, it is ready to be processed.  This will be the topic of the third chapter, where we will dive deeper into processing methods and tools, scheduling, parallel computing and cloud computing.  \n",
    "\n",
    "\n",
    "Throughout the course, we will look at how all these data engineering concepts are implemented at a fictional music streaming company named Spotflix.  \n",
    "\n",
    "\n",
    "# *******************************************************************************************************************\n",
    "Lets take things from the start then.  There are 4 general steps through which data flows within an organization.  First, we collect and ingest the data, from web traffic, surveys, or media consumption for example.  Data is stored in raw format.  The next step is to prepare it, whcih includes \"cleaning data\", for instance finding missing or duplicate values, and converting data into a more organized format.  Once the data is clean and organized, it can be exploited.  We explore it, visualize it, build dashboards to track changes or compare two set of data.  Finally, once we have a good grasp of our data, we're ready to run experiments, like evaluate which article title gets the most hits, or to build predictive models, for example to forcast stock prices.  \n",
    "# *******************************************************************************************************************\n",
    "\n",
    "[Data Collection & Storage ---> Data Preparation ---> Exploration & Visualization ---> Experimentation & Prediction]\n",
    "\n",
    "# Data engineers are responsible for the first step of the process: \n",
    "ingesting collected data and storing it.  They have a great responsibility as they lay the ground work for data analysts, data scientist and machine learning engineers.  If the data is scattered around, corrupted, and diffcult to access, there is not much to prepare, explore, or experiment with.  And thats exactly why you need a Data Engineer: their job is to deliver the correct data, in the right form, to the right people, as efficiently as possible.  They ingest data from different sources, optimize the databases for analysis, and manage data corruption.  \n",
    "\n",
    "# *******************************************************************************************************************\n",
    "Data engineers develop, construct, test, and maintain architectures such as databases and large-scale processing systems to process and handle massive amounts of data.  If you are not sure what this all means, thats okay.  The course will unpackll this jargon and explain the what, why and how.  \n",
    "\n",
    "With the advent of big data, the demand for data engineers has increased.  Big data can be defined as data so large you have to think about how to deal with its size, because its difficult to process using traditional data management methods.  The graph helps make sense of the growth of big data.  In order of volume, big data is mainly composed of sensors and devices data, social media data, enterprise data and VoIP data.  \n",
    "\n",
    "Big data is commonly characterized by 5 Vs.  [Volume] (the quantity of data points), [Variety] (type and nature of the data: text, image, video, audio), [Velocity] (how fast the data is generated and processed), [Veracity] (how trustworthy the sources are), and [Value] (how actionable the data is).  Data engineers need to take all of this into consideration.  \n",
    "\n",
    "\n",
    "Already, Now you not only know what's waiting for you in this course, but also how data flows with in an organization, when a data engineer intervenes, what their responsibilities are, and how they relate to big data.  Lets check your understanding.  \n",
    "\n"
   ]
  },
  {
   "cell_type": "markdown",
   "id": "6a8e2f25-c087-4988-94e6-65c60d71c3fe",
   "metadata": {},
   "source": [
    "## Go with the flow\n",
    "\n",
    "To understand what data engineers do, why they are necessary and the impact they have, you need to know how data flows through an organization.\n",
    "\n",
    "Can you order the four steps of the data science workflow chronologically?\n",
    "Instructions\n",
    "100XP\n",
    "\n",
    "Order the steps on chronologically (the step happening first should be at the top and the step happening last at the bottom)."
   ]
  },
  {
   "cell_type": "markdown",
   "id": "14ae10c7-2275-4162-af10-bbc372bc6244",
   "metadata": {},
   "source": [
    "Data collection and storage\n",
    "\n",
    "Data preparation\n",
    "\n",
    "Exploration and visualization\n",
    "\n",
    "Experimentation and prediction"
   ]
  },
  {
   "cell_type": "markdown",
   "id": "628aaa19-ab42-4240-acdc-831372351d40",
   "metadata": {},
   "source": [
    "## Not responsible\n",
    "\n",
    "You recently joined the data science team as a manager for a music streaming company named Spotflix. It's a music platform that lets users stream songs, create playlists, follow artists, watch music videos and even look up lyrics!\n",
    "\n",
    "One of your colleagues just walked to your desk. They just got hired, but they already know you're on the data team - after training with DataCamp, you've made a name for yourself pretty quick! They have a bunch of data tasks they need completed, and they want to make sure they ask the right person. You tell them you can help them identify what they should request from data engineers, and what they should not.\n",
    "\n",
    "Can you deliver on this promise?\n",
    "Instructions\n",
    "100XP\n",
    "\n",
    "Here are several tasks related to working with data. Classify them in two buckets: one for data engineering tasks, one for tasks that are not the responsibility of data engineers.\n"
   ]
  },
  {
   "cell_type": "markdown",
   "id": "5df334fa-d0ec-4d30-8fc7-c5e1db05fb22",
   "metadata": {},
   "source": [
    "Data engineering tasks:\n",
    "    Ensuring corrupte, unreadable music tracks are removed and dont end up facing customers\n",
    "    Optimizing the customers databases for analysis\n",
    "    Gathering music consumption data from desktop and mobile sources\n",
    "    \n",
    "    \n",
    "Not data engineering tasks:\n",
    "    Running an experiment to identify the optimal search bar positioning in the app\n",
    "    Building a visualization to understand listening patterns by city\n",
    "    Based on their listening behavior, predict which songs customers are likely to enjoy\n",
    "    "
   ]
  },
  {
   "cell_type": "markdown",
   "id": "0a1c4818-de2e-42cd-a87d-9bf60e17b671",
   "metadata": {},
   "source": [
    "## Big time\n",
    "\n",
    "You saw how the advent of big data increased the demand for data engineers. As more data gets generated, at a higher rate, with a growing variety of formats, the need for people able to manage this data is soaring.\n",
    "\n",
    "Which of the following statements are true, and which are false?\n",
    "Instructions\n",
    "100XP\n",
    "\n",
    "Classify the statements as either true of false."
   ]
  },
  {
   "cell_type": "code",
   "execution_count": null,
   "id": "4333b1c5-6caf-42d5-923f-c0879ad83cdc",
   "metadata": {},
   "outputs": [],
   "source": []
  },
  {
   "cell_type": "code",
   "execution_count": null,
   "id": "1cba3ee4-230d-4f37-a1ff-ccf9bd0c3582",
   "metadata": {},
   "outputs": [],
   "source": []
  },
  {
   "cell_type": "code",
   "execution_count": null,
   "id": "3a03d1c7-a50e-4ada-8c33-dbd1f51cdc17",
   "metadata": {},
   "outputs": [],
   "source": []
  },
  {
   "cell_type": "code",
   "execution_count": null,
   "id": "708566ea-730b-4d68-99a3-267cad4b13c7",
   "metadata": {},
   "outputs": [],
   "source": []
  },
  {
   "cell_type": "code",
   "execution_count": null,
   "id": "3c327ce9-99e9-48be-9778-e5373b63360b",
   "metadata": {},
   "outputs": [],
   "source": []
  },
  {
   "cell_type": "code",
   "execution_count": null,
   "id": "de3b3a2d-00cf-4920-aff3-d2e2a7ffc97d",
   "metadata": {},
   "outputs": [],
   "source": []
  },
  {
   "cell_type": "code",
   "execution_count": null,
   "id": "d3608d3c-0c36-45f1-9561-5147d9b74eb3",
   "metadata": {},
   "outputs": [],
   "source": []
  },
  {
   "cell_type": "code",
   "execution_count": null,
   "id": "ef2f6fef-ab28-4d5f-8069-3f514e01bf47",
   "metadata": {},
   "outputs": [],
   "source": []
  },
  {
   "cell_type": "code",
   "execution_count": null,
   "id": "1bb5681f-dfea-4196-8421-f0daf89b7667",
   "metadata": {},
   "outputs": [],
   "source": []
  },
  {
   "cell_type": "code",
   "execution_count": null,
   "id": "56b62dde-1e1c-4a69-925d-42d8173f9f2a",
   "metadata": {},
   "outputs": [],
   "source": []
  },
  {
   "cell_type": "code",
   "execution_count": null,
   "id": "ee505660-648c-4fd4-8062-55f62acf1ca7",
   "metadata": {},
   "outputs": [],
   "source": []
  },
  {
   "cell_type": "code",
   "execution_count": null,
   "id": "7041f0e7-b7ee-4d6b-980c-b296caf0c49b",
   "metadata": {},
   "outputs": [],
   "source": []
  },
  {
   "cell_type": "code",
   "execution_count": null,
   "id": "468a076a-7962-43b0-8fe9-3ce3cba02c9c",
   "metadata": {},
   "outputs": [],
   "source": []
  },
  {
   "cell_type": "code",
   "execution_count": null,
   "id": "dac70d42-187f-4823-82f1-25e390f1f5f4",
   "metadata": {},
   "outputs": [],
   "source": []
  },
  {
   "cell_type": "code",
   "execution_count": null,
   "id": "dbd1df77-e0b6-4680-87cd-a2afd967a079",
   "metadata": {},
   "outputs": [],
   "source": []
  },
  {
   "cell_type": "code",
   "execution_count": null,
   "id": "4aae2e0f-77f1-4d56-a7a0-95748945eb16",
   "metadata": {},
   "outputs": [],
   "source": []
  },
  {
   "cell_type": "code",
   "execution_count": null,
   "id": "91bbc1e8-499f-4d81-beb7-c4618d90ce83",
   "metadata": {},
   "outputs": [],
   "source": []
  },
  {
   "cell_type": "code",
   "execution_count": null,
   "id": "4d6049a2-d237-4552-aae4-9c0283ee7f78",
   "metadata": {},
   "outputs": [],
   "source": []
  },
  {
   "cell_type": "code",
   "execution_count": null,
   "id": "27138239-e7a8-4f19-819f-995e9072f08d",
   "metadata": {},
   "outputs": [],
   "source": []
  },
  {
   "cell_type": "code",
   "execution_count": null,
   "id": "9b7160d5-53c2-4fe9-9d08-5d50bc27beb8",
   "metadata": {},
   "outputs": [],
   "source": []
  },
  {
   "cell_type": "code",
   "execution_count": null,
   "id": "de816026-3757-4abb-87f5-1971d883ce60",
   "metadata": {},
   "outputs": [],
   "source": []
  },
  {
   "cell_type": "code",
   "execution_count": null,
   "id": "b27e05b0-309f-49cf-8455-12943b6a23b9",
   "metadata": {},
   "outputs": [],
   "source": []
  },
  {
   "cell_type": "code",
   "execution_count": null,
   "id": "de32faf4-39e0-437d-8147-f0ec8b7ae9ed",
   "metadata": {},
   "outputs": [],
   "source": []
  },
  {
   "cell_type": "code",
   "execution_count": null,
   "id": "cc81a997-e2c2-47c0-9b84-4b8a0fc2c30e",
   "metadata": {},
   "outputs": [],
   "source": []
  },
  {
   "cell_type": "code",
   "execution_count": null,
   "id": "3be14951-2cc5-47e7-b805-d5e0ce80f4ae",
   "metadata": {},
   "outputs": [],
   "source": []
  },
  {
   "cell_type": "code",
   "execution_count": null,
   "id": "ae6ee394-0433-4a1f-93a2-0d0ab3ee46da",
   "metadata": {},
   "outputs": [],
   "source": []
  },
  {
   "cell_type": "code",
   "execution_count": null,
   "id": "c8ca9c3b-864d-447b-81e7-5bd749d30fd2",
   "metadata": {},
   "outputs": [],
   "source": []
  }
 ],
 "metadata": {
  "kernelspec": {
   "display_name": "Python 3 (ipykernel)",
   "language": "python",
   "name": "python3"
  },
  "language_info": {
   "codemirror_mode": {
    "name": "ipython",
    "version": 3
   },
   "file_extension": ".py",
   "mimetype": "text/x-python",
   "name": "python",
   "nbconvert_exporter": "python",
   "pygments_lexer": "ipython3",
   "version": "3.9.2"
  }
 },
 "nbformat": 4,
 "nbformat_minor": 5
}
